{
 "cells": [
  {
   "cell_type": "markdown",
   "metadata": {},
   "source": [
    "# Naive Bayes"
   ]
  },
  {
   "cell_type": "code",
   "execution_count": 1,
   "metadata": {},
   "outputs": [],
   "source": [
    "import numpy as np\n",
    "import pandas as pd"
   ]
  },
  {
   "cell_type": "code",
   "execution_count": 2,
   "metadata": {},
   "outputs": [],
   "source": [
    "#opening the file that contains the data set and removing the missing values\n",
    "file = open(\"breast-cancer.data\", \"r\")\n",
    "file_data = file.readlines()\n",
    "data = []\n",
    "for line in file_data:\n",
    "    if '?' in line:    #Excluding the missing values in the data set\n",
    "        continue\n",
    "    data.append(line.strip(\"\\n\").split(','))"
   ]
  },
  {
   "cell_type": "code",
   "execution_count": 3,
   "metadata": {},
   "outputs": [],
   "source": [
    "data = np.array(data)\n",
    "np.random.shuffle(data)\n",
    "train_data = data[:221]\n",
    "test_data = data[221:]"
   ]
  },
  {
   "cell_type": "code",
   "execution_count": 4,
   "metadata": {},
   "outputs": [
    {
     "data": {
      "text/plain": [
       "array(['recurrence-events', '60-69', 'ge40', '40-44', '3-5', 'yes', '3',\n",
       "       'right', 'left_low', 'no'], dtype='<U20')"
      ]
     },
     "execution_count": 4,
     "metadata": {},
     "output_type": "execute_result"
    }
   ],
   "source": [
    "data[0]"
   ]
  },
  {
   "cell_type": "code",
   "execution_count": 5,
   "metadata": {},
   "outputs": [],
   "source": [
    "def prior_prob(labels):\n",
    "    '''computes the prior probabilities of the classes'''\n",
    "    \n",
    "    unique, count = np.unique(labels, return_counts = True)    #The unique class values and their number of occurences\n",
    "    sum_of_counts = np.sum(count)       #The sum of all the counts, used to normalise the probabilities\n",
    "    probs = {}    #The probabilities\n",
    "    for i in range(len(unique)):\n",
    "        probs[unique[i]] = count[i]/sum_of_counts\n",
    "        \n",
    "    return probs"
   ]
  },
  {
   "cell_type": "code",
   "execution_count": 6,
   "metadata": {},
   "outputs": [],
   "source": [
    "def class_conditionals(data):\n",
    "    '''computes the conditional probabilities of seeing the data points under the classes'''\n",
    "    no_rec_events = []      #contains data points that belongs to the no recurrence events class\n",
    "    rec_events = []         #contains data points that belongs to the recurrence events class\n",
    "        \n",
    "    for i in range(len(data)):     #puts every data point in the correct array\n",
    "        if data[i, 0] == \"no-recurrence-events\":\n",
    "            no_rec_events.append(data[i, 1:])\n",
    "        else:\n",
    "            rec_events.append(data[i, 1:])\n",
    "    \n",
    "    no_rec_events = np.array(no_rec_events)\n",
    "    no_rec = []\n",
    "    for i in range(len(no_rec_events[0])):\n",
    "        unique, counts = np.unique(no_rec_events[:, i], return_counts=True)\n",
    "        tmp = {}    #contains the unique values of a column and their probabilities\n",
    "        for j in range(len(unique)):\n",
    "            tmp[unique[j]] = counts[j]\n",
    "        no_rec.append(tmp)\n",
    "     \n",
    "    rec_events = np.array(rec_events)\n",
    "    rec = []\n",
    "    for i in range(len(rec_events[0])):\n",
    "        unique, counts = np.unique(rec_events[:, i], return_counts=True)\n",
    "        tmp = {}   #contains the unique values of a column and their probabilities\n",
    "        for j in range(len(unique)):\n",
    "            tmp[unique[j]] = counts[j]\n",
    "        rec.append(tmp)\n",
    "    \n",
    "    return no_rec, len(no_rec_events), rec, len(rec_events)"
   ]
  },
  {
   "cell_type": "markdown",
   "metadata": {},
   "source": [
    "### To move from non smoothing to smoothing, simply remove the comment sign and the zero in the if statement marked regularization"
   ]
  },
  {
   "cell_type": "code",
   "execution_count": 12,
   "metadata": {},
   "outputs": [],
   "source": [
    "def infer(rec, rec_count, no_rec, no_rec_count, prior, data_point):\n",
    "    '''Determines the class which the data point belongs to'''\n",
    "    rec_product = 1     #the class conditional probability using the independent rule\n",
    "    no_rec_product = 1\n",
    "    for i in range(len(data_point)):\n",
    "        if (data_point[i]) in rec[i]:\n",
    "            rec_product *= (rec[i][data_point[i]])/rec_count\n",
    "        if not (data_point[i]) in rec[i]:    #regularization \n",
    "            rec_product *= (1)/(rec_count+len(rec[i])+1)\n",
    "        if (data_point[i]) in no_rec[i]:\n",
    "            no_rec_product *= (no_rec[i][data_point[i]])/no_rec_count\n",
    "        if not (data_point[i]) in no_rec[i]:   #regularization\n",
    "            no_rec_product *= (1)/(no_rec_count+len(no_rec[i])+1)\n",
    "    \n",
    "    rec_class=(rec_product*prior[\"recurrence-events\"])/(rec_product*prior[\"recurrence-events\"]+no_rec_product*prior[\"no-recurrence-events\"])\n",
    "    no_rec_class=(no_rec_product*prior[\"no-recurrence-events\"])/(rec_product*prior[\"recurrence-events\"]+no_rec_product*prior[\"no-recurrence-events\"])\n",
    "    \n",
    "    if rec_class > no_rec_class:\n",
    "        return \"recurrence-events\"\n",
    "    else:\n",
    "        return \"no-recurrence-events\""
   ]
  },
  {
   "cell_type": "code",
   "execution_count": 8,
   "metadata": {},
   "outputs": [],
   "source": [
    "no_rec,no_rec_count, rec, rec_count = class_conditionals(train_data)\n",
    "prior = prior_prob(train_data[:, 0])"
   ]
  },
  {
   "cell_type": "code",
   "execution_count": 13,
   "metadata": {},
   "outputs": [],
   "source": [
    "TP = 0\n",
    "TN = 0\n",
    "FP = 0\n",
    "FN = 0\n",
    "for i in range(len(test_data)):\n",
    "    out = infer(rec, rec_count, no_rec, no_rec_count, prior, test_data[i, 1:])\n",
    "    if test_data[i, 0] == out and out==\"recurrence-events\":\n",
    "        TP += 1\n",
    "    elif test_data[i, 0] == out and out==\"no-recurrence-events\":\n",
    "        TN += 1\n",
    "    elif out==\"recurrence-events\":\n",
    "        FP += 1\n",
    "    elif out==\"no-recurrence-events\":\n",
    "        FN\n",
    "accuracy = 'accuracy is: '+str(round(((TP+TN)/(TP+TN+FP+FN))*100))+'%'\n",
    "d = {'approxiamted reccurence-events': [TP,FP], 'approximated no-reccurence-events': [FN,TN]}\n",
    "df = pd.DataFrame(data=d,index=['actual reccurence-events','actual no-reccurence-events'])"
   ]
  },
  {
   "cell_type": "code",
   "execution_count": 14,
   "metadata": {},
   "outputs": [
    {
     "data": {
      "text/plain": [
       "'accuracy is: 86%'"
      ]
     },
     "execution_count": 14,
     "metadata": {},
     "output_type": "execute_result"
    }
   ],
   "source": [
    "accuracy"
   ]
  },
  {
   "cell_type": "code",
   "execution_count": 15,
   "metadata": {},
   "outputs": [
    {
     "data": {
      "text/html": [
       "<div>\n",
       "<style scoped>\n",
       "    .dataframe tbody tr th:only-of-type {\n",
       "        vertical-align: middle;\n",
       "    }\n",
       "\n",
       "    .dataframe tbody tr th {\n",
       "        vertical-align: top;\n",
       "    }\n",
       "\n",
       "    .dataframe thead th {\n",
       "        text-align: right;\n",
       "    }\n",
       "</style>\n",
       "<table border=\"1\" class=\"dataframe\">\n",
       "  <thead>\n",
       "    <tr style=\"text-align: right;\">\n",
       "      <th></th>\n",
       "      <th>approxiamted reccurence-events</th>\n",
       "      <th>approximated no-reccurence-events</th>\n",
       "    </tr>\n",
       "  </thead>\n",
       "  <tbody>\n",
       "    <tr>\n",
       "      <th>actual reccurence-events</th>\n",
       "      <td>9</td>\n",
       "      <td>0</td>\n",
       "    </tr>\n",
       "    <tr>\n",
       "      <th>actual no-reccurence-events</th>\n",
       "      <td>7</td>\n",
       "      <td>35</td>\n",
       "    </tr>\n",
       "  </tbody>\n",
       "</table>\n",
       "</div>"
      ],
      "text/plain": [
       "                             approxiamted reccurence-events  \\\n",
       "actual reccurence-events                                  9   \n",
       "actual no-reccurence-events                               7   \n",
       "\n",
       "                             approximated no-reccurence-events  \n",
       "actual reccurence-events                                     0  \n",
       "actual no-reccurence-events                                 35  "
      ]
     },
     "execution_count": 15,
     "metadata": {},
     "output_type": "execute_result"
    }
   ],
   "source": [
    "df"
   ]
  },
  {
   "cell_type": "code",
   "execution_count": null,
   "metadata": {},
   "outputs": [],
   "source": []
  }
 ],
 "metadata": {
  "kernelspec": {
   "display_name": "Python 3",
   "language": "python",
   "name": "python3"
  },
  "language_info": {
   "codemirror_mode": {
    "name": "ipython",
    "version": 3
   },
   "file_extension": ".py",
   "mimetype": "text/x-python",
   "name": "python",
   "nbconvert_exporter": "python",
   "pygments_lexer": "ipython3",
   "version": "3.6.5"
  }
 },
 "nbformat": 4,
 "nbformat_minor": 2
}
