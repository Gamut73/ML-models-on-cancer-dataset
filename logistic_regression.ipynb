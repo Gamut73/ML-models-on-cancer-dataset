{
 "cells": [
  {
   "cell_type": "code",
   "execution_count": 1,
   "metadata": {},
   "outputs": [],
   "source": [
    "import numpy as np\n",
    "import pandas as pd\n",
    "import processorData as process"
   ]
  },
  {
   "cell_type": "code",
   "execution_count": 2,
   "metadata": {},
   "outputs": [],
   "source": [
    "#opening the file that contains the data set and removing the missing values\n",
    "file = open(\"breast-cancer.data\", \"r\")\n",
    "file_data = file.readlines()\n",
    "data = []\n",
    "for line in file_data:\n",
    "    if '?' in line:    #Excluding the missing values in the data set\n",
    "        continue\n",
    "    data.append(line.strip(\"\\n\").split(','))"
   ]
  },
  {
   "cell_type": "code",
   "execution_count": 3,
   "metadata": {},
   "outputs": [],
   "source": [
    "data2D = data"
   ]
  },
  {
   "cell_type": "code",
   "execution_count": null,
   "metadata": {},
   "outputs": [],
   "source": [
    "len(data2D)"
   ]
  },
  {
   "cell_type": "code",
   "execution_count": 4,
   "metadata": {},
   "outputs": [],
   "source": [
    "process = process.processor(data2D)"
   ]
  },
  {
   "cell_type": "code",
   "execution_count": 5,
   "metadata": {},
   "outputs": [],
   "source": [
    "normalizedData = process.normalizedData()"
   ]
  },
  {
   "cell_type": "code",
   "execution_count": 6,
   "metadata": {},
   "outputs": [],
   "source": [
    "np.random.shuffle(normalizedData)"
   ]
  },
  {
   "cell_type": "code",
   "execution_count": 7,
   "metadata": {},
   "outputs": [],
   "source": [
    "training_data = normalizedData[:221]\n",
    "test_data = normalizedData[221:260]\n",
    "validation_data = normalizedData[260:]"
   ]
  },
  {
   "cell_type": "code",
   "execution_count": 8,
   "metadata": {},
   "outputs": [],
   "source": [
    "def h(x, θ): # Regression function\n",
    "    return 1/(1+np.exp(-np.dot(x, θ)))"
   ]
  },
  {
   "cell_type": "code",
   "execution_count": 9,
   "metadata": {},
   "outputs": [],
   "source": [
    "#Logistic regression with regularazation\n",
    "def logistic_regression(training_data):\n",
    "    x_values = np.array(training_data)[:,1:]\n",
    "    y_values = np.array(training_data)[:,0]\n",
    "    X = np.hstack([np.ones(x_values.shape[0])[np.newaxis].T, x_values[:,1:]]) #the design matrix\n",
    "    α = 1e-4 # define our learning rate\n",
    "    λ = 1e-2\n",
    "    θ = np.ones(X.shape[1]) # initialize our parameters\n",
    "    θ_old = np.zeros(X.shape[1]) # initialize the old parameter values (must be different from the parameter values so we enter the while loop below)\n",
    "    while np.sqrt(np.sum(np.power(θ - θ_old, 2))) > 0.0005: # while euclidean norm > 0.0005 (so ϵ = 0.0005) \n",
    "        θ_old = θ # set old parameter values to parameter values before they are updated\n",
    "        for i in range(0,X.shape[0]): # loop over each row of the design matrix (each data point)\n",
    "            θ1 = θ - α*( (h(X[i], θ) - y_values[i]) * X[i] ) # update the parameters using the update rule\n",
    "            θ = θ - α*( (h(X[i], θ) - y_values[i]) * X[i] + λ*θ)\n",
    "            θ[0] = θ1[0] \n",
    "            \n",
    "    return θ"
   ]
  },
  {
   "cell_type": "code",
   "execution_count": 10,
   "metadata": {},
   "outputs": [],
   "source": [
    "θ= logistic_regression(training_data)"
   ]
  },
  {
   "cell_type": "code",
   "execution_count": 11,
   "metadata": {},
   "outputs": [
    {
     "data": {
      "text/plain": [
       "array([0.2250108 , 0.20714064, 0.45732607, 0.75844611, 0.16267763,\n",
       "       1.25892994, 0.46625225, 0.5289725 , 0.30524507])"
      ]
     },
     "execution_count": 11,
     "metadata": {},
     "output_type": "execute_result"
    }
   ],
   "source": [
    "θ"
   ]
  },
  {
   "cell_type": "code",
   "execution_count": 12,
   "metadata": {},
   "outputs": [],
   "source": [
    "def countClass(data):\n",
    "    counter1 = 0 # for no-occurrence-events\n",
    "    counter2 = 0 # for occurence-events\n",
    "    for i in range(0,len(data)):\n",
    "        if(data[i][0] == 0):\n",
    "            counter1 = counter1 + 1\n",
    "        if (data[i][0] == 1):\n",
    "            counter2 = counter2 + 1\n",
    "    return counter1,counter2"
   ]
  },
  {
   "cell_type": "code",
   "execution_count": 13,
   "metadata": {},
   "outputs": [],
   "source": [
    "def confusion_matrix(true_class,app_class):\n",
    "    TP = 0\n",
    "    TN = 0 \n",
    "    FP = 0\n",
    "    FN = 0\n",
    "    for i in range(0,len(app_class)):\n",
    "        if (app_class[i] == 0):\n",
    "            if (app_class[i] == true_class[i]):\n",
    "                TP = TP +1\n",
    "            else :\n",
    "                FP = FP+1\n",
    "        if (app_class[i] == 1):\n",
    "            if (app_class[i] == true_class[i]):\n",
    "                TN = TN +1\n",
    "            else :\n",
    "                FN = FN+1\n",
    "    return TP,FP,TN,FN"
   ]
  },
  {
   "cell_type": "code",
   "execution_count": 14,
   "metadata": {},
   "outputs": [],
   "source": [
    "def apply_LR(data,θ):\n",
    "    x_values = np.array(data)[:,1:]\n",
    "    actual_no_occurrence_events = 0 #actual no-occurence-events indicated by 0\n",
    "    actual_occurrence_events = 0   #actual occurence-events indicated by 1  \n",
    "    actual_no_occurrence_events, actual_occurrence_events = countClass(data)\n",
    "    arr = []\n",
    "    for i in x_values:\n",
    "        tmp = h(i,θ)\n",
    "        if tmp < 0.5:\n",
    "            arr.append(0) # classify as no-occurence-events\n",
    "        elif tmp >= 0.5:\n",
    "            arr.append(1) # classify as occurence-events\n",
    "    approximated_no_occurrence_events,  approximated_occurrence_events = countClass(np.array(arr)[np.newaxis].T)\n",
    "    TP,FP,TN,FN = confusion_matrix(np.array(data)[:,0].astype(int).tolist(),arr)  \n",
    "    accuracy = 'accuracy is: '+str(round(((TP+TN)/(TP+TN+FP+FN))*100))+'%'\n",
    "    d = {'approxiamted no-occurence-events': [TP,FP], 'approximated occurence-events': [FN,TN]}\n",
    "    df = pd.DataFrame(data=d,index=['actual no-occurence-events','actual occurence-events'])\n",
    "    return df,accuracy"
   ]
  },
  {
   "cell_type": "code",
   "execution_count": 15,
   "metadata": {},
   "outputs": [],
   "source": [
    "d,a= apply_LR(test_data,θ)"
   ]
  },
  {
   "cell_type": "code",
   "execution_count": 16,
   "metadata": {},
   "outputs": [
    {
     "data": {
      "text/html": [
       "<div>\n",
       "<style scoped>\n",
       "    .dataframe tbody tr th:only-of-type {\n",
       "        vertical-align: middle;\n",
       "    }\n",
       "\n",
       "    .dataframe tbody tr th {\n",
       "        vertical-align: top;\n",
       "    }\n",
       "\n",
       "    .dataframe thead th {\n",
       "        text-align: right;\n",
       "    }\n",
       "</style>\n",
       "<table border=\"1\" class=\"dataframe\">\n",
       "  <thead>\n",
       "    <tr style=\"text-align: right;\">\n",
       "      <th></th>\n",
       "      <th>approxiamted no-occurence-events</th>\n",
       "      <th>approximated occurence-events</th>\n",
       "    </tr>\n",
       "  </thead>\n",
       "  <tbody>\n",
       "    <tr>\n",
       "      <th>actual no-occurence-events</th>\n",
       "      <td>21</td>\n",
       "      <td>0</td>\n",
       "    </tr>\n",
       "    <tr>\n",
       "      <th>actual occurence-events</th>\n",
       "      <td>11</td>\n",
       "      <td>7</td>\n",
       "    </tr>\n",
       "  </tbody>\n",
       "</table>\n",
       "</div>"
      ],
      "text/plain": [
       "                            approxiamted no-occurence-events  \\\n",
       "actual no-occurence-events                                21   \n",
       "actual occurence-events                                   11   \n",
       "\n",
       "                            approximated occurence-events  \n",
       "actual no-occurence-events                              0  \n",
       "actual occurence-events                                 7  "
      ]
     },
     "execution_count": 16,
     "metadata": {},
     "output_type": "execute_result"
    }
   ],
   "source": [
    "d.head()"
   ]
  },
  {
   "cell_type": "code",
   "execution_count": 17,
   "metadata": {},
   "outputs": [
    {
     "data": {
      "text/plain": [
       "'accuracy is: 72%'"
      ]
     },
     "execution_count": 17,
     "metadata": {},
     "output_type": "execute_result"
    }
   ],
   "source": [
    "a"
   ]
  },
  {
   "cell_type": "code",
   "execution_count": null,
   "metadata": {},
   "outputs": [],
   "source": []
  }
 ],
 "metadata": {
  "kernelspec": {
   "display_name": "Python 3",
   "language": "python",
   "name": "python3"
  },
  "language_info": {
   "codemirror_mode": {
    "name": "ipython",
    "version": 3
   },
   "file_extension": ".py",
   "mimetype": "text/x-python",
   "name": "python",
   "nbconvert_exporter": "python",
   "pygments_lexer": "ipython3",
   "version": "3.6.5"
  }
 },
 "nbformat": 4,
 "nbformat_minor": 4
}
